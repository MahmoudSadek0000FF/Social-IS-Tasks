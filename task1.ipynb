{
 "cells": [
  {
   "cell_type": "code",
   "execution_count": 1,
   "id": "d5c858db",
   "metadata": {},
   "outputs": [
    {
     "name": "stdout",
     "output_type": "stream",
     "text": [
      "hello world\n"
     ]
    }
   ],
   "source": [
    "print (\"hello world\")"
   ]
  },
  {
   "cell_type": "code",
   "execution_count": 3,
   "id": "b72d70db",
   "metadata": {},
   "outputs": [
    {
     "name": "stdout",
     "output_type": "stream",
     "text": [
      "hello\n",
      "15\n"
     ]
    }
   ],
   "source": [
    "my_string = 'hello'\n",
    "my_int = 15\n",
    "\n",
    "print(my_string)\n",
    "print(my_int)"
   ]
  },
  {
   "cell_type": "code",
   "execution_count": 4,
   "id": "2299f230",
   "metadata": {},
   "outputs": [
    {
     "data": {
      "text/plain": [
       "'hello'"
      ]
     },
     "execution_count": 4,
     "metadata": {},
     "output_type": "execute_result"
    }
   ],
   "source": [
    "my_string"
   ]
  },
  {
   "cell_type": "code",
   "execution_count": 5,
   "id": "7e767230",
   "metadata": {},
   "outputs": [
    {
     "data": {
      "text/plain": [
       "15"
      ]
     },
     "execution_count": 5,
     "metadata": {},
     "output_type": "execute_result"
    }
   ],
   "source": [
    "my_string\n",
    "my_int"
   ]
  },
  {
   "cell_type": "code",
   "execution_count": 6,
   "id": "e4e4879c",
   "metadata": {},
   "outputs": [
    {
     "name": "stdout",
     "output_type": "stream",
     "text": [
      "you have meny apples\n"
     ]
    }
   ],
   "source": [
    "numberOfApples =5\n",
    "if numberOfApples < 1:\n",
    "    print(\"you have no apples\")\n",
    "elif numberOfApples ==1:\n",
    "    print(\"you have one apple\")\n",
    "elif numberOfApples < 4 :\n",
    "    print(\"you have a few apples\")\n",
    "else:\n",
    "    print(\"you have meny apples\")"
   ]
  },
  {
   "cell_type": "code",
   "execution_count": 8,
   "id": "8d695f5e",
   "metadata": {},
   "outputs": [
    {
     "data": {
      "text/plain": [
       "'sadek'"
      ]
     },
     "execution_count": 8,
     "metadata": {},
     "output_type": "execute_result"
    }
   ],
   "source": [
    "student_names = ['mahmoud','sadek','ali','taha']\n",
    "student_names[1]"
   ]
  },
  {
   "cell_type": "code",
   "execution_count": 9,
   "id": "f6e04160",
   "metadata": {},
   "outputs": [
    {
     "data": {
      "text/plain": [
       "'mahmoud'"
      ]
     },
     "execution_count": 9,
     "metadata": {},
     "output_type": "execute_result"
    }
   ],
   "source": [
    "student_names[0]"
   ]
  },
  {
   "cell_type": "code",
   "execution_count": 10,
   "id": "11a0fe10",
   "metadata": {},
   "outputs": [
    {
     "data": {
      "text/plain": [
       "'taha'"
      ]
     },
     "execution_count": 10,
     "metadata": {},
     "output_type": "execute_result"
    }
   ],
   "source": [
    "student_names[-1]"
   ]
  },
  {
   "cell_type": "code",
   "execution_count": 11,
   "id": "5a104cb2",
   "metadata": {},
   "outputs": [
    {
     "data": {
      "text/plain": [
       "['mahmoud', 'sadek']"
      ]
     },
     "execution_count": 11,
     "metadata": {},
     "output_type": "execute_result"
    }
   ],
   "source": [
    "student_names[0:2]"
   ]
  },
  {
   "cell_type": "code",
   "execution_count": 12,
   "id": "a1ecb674",
   "metadata": {},
   "outputs": [
    {
     "data": {
      "text/plain": [
       "['sadek', 'ali']"
      ]
     },
     "execution_count": 12,
     "metadata": {},
     "output_type": "execute_result"
    }
   ],
   "source": [
    "student_names[1:3]"
   ]
  },
  {
   "cell_type": "code",
   "execution_count": 13,
   "id": "c93dd104",
   "metadata": {},
   "outputs": [
    {
     "data": {
      "text/plain": [
       "['mahmoud', 'sadek']"
      ]
     },
     "execution_count": 13,
     "metadata": {},
     "output_type": "execute_result"
    }
   ],
   "source": [
    "student_names[:2]"
   ]
  },
  {
   "cell_type": "code",
   "execution_count": 14,
   "id": "7b2dc174",
   "metadata": {},
   "outputs": [
    {
     "data": {
      "text/plain": [
       "['ali', 'taha']"
      ]
     },
     "execution_count": 14,
     "metadata": {},
     "output_type": "execute_result"
    }
   ],
   "source": [
    "student_names[2:]"
   ]
  },
  {
   "cell_type": "code",
   "execution_count": 15,
   "id": "60149966",
   "metadata": {},
   "outputs": [],
   "source": [
    "student_names.append(\"mohamed\")"
   ]
  },
  {
   "cell_type": "code",
   "execution_count": 16,
   "id": "187df78a",
   "metadata": {},
   "outputs": [
    {
     "data": {
      "text/plain": [
       "['mahmoud', 'sadek', 'ali', 'taha', 'mohamed']"
      ]
     },
     "execution_count": 16,
     "metadata": {},
     "output_type": "execute_result"
    }
   ],
   "source": [
    "student_names"
   ]
  },
  {
   "cell_type": "code",
   "execution_count": 17,
   "id": "ca8469fc",
   "metadata": {},
   "outputs": [
    {
     "data": {
      "text/plain": [
       "['mahmoud', 'sadek', 'ibrahim', 'ali', 'taha', 'mohamed']"
      ]
     },
     "execution_count": 17,
     "metadata": {},
     "output_type": "execute_result"
    }
   ],
   "source": [
    "student_names.insert(2,\"ibrahim\")\n",
    "student_names"
   ]
  },
  {
   "cell_type": "code",
   "execution_count": 18,
   "id": "352e67d9",
   "metadata": {},
   "outputs": [
    {
     "data": {
      "text/plain": [
       "['mahmoud', 'sadek', 'ali', 'taha', 'mohamed']"
      ]
     },
     "execution_count": 18,
     "metadata": {},
     "output_type": "execute_result"
    }
   ],
   "source": [
    "del student_names[2]\n",
    "student_names"
   ]
  },
  {
   "cell_type": "code",
   "execution_count": 19,
   "id": "e59df828",
   "metadata": {},
   "outputs": [
    {
     "data": {
      "text/plain": [
       "['mahmoud', 'sadek', 'ali', 'taha', 'mohamed', 'badr', 'badr']"
      ]
     },
     "execution_count": 19,
     "metadata": {},
     "output_type": "execute_result"
    }
   ],
   "source": [
    "student_names.append('badr')\n",
    "student_names.append('badr')\n",
    "student_names"
   ]
  },
  {
   "cell_type": "code",
   "execution_count": 20,
   "id": "94e7dd32",
   "metadata": {},
   "outputs": [
    {
     "name": "stdout",
     "output_type": "stream",
     "text": [
      "hello mahmoud !\n",
      "hello sadek !\n",
      "hello ali !\n",
      "hello taha !\n",
      "hello mohamed !\n",
      "hello badr !\n",
      "hello badr !\n"
     ]
    }
   ],
   "source": [
    "for st_name in student_names:\n",
    "    print('hello '+st_name+\" !\")"
   ]
  },
  {
   "cell_type": "code",
   "execution_count": 22,
   "id": "bbb9e39e",
   "metadata": {},
   "outputs": [
    {
     "data": {
      "text/plain": [
       "['mahmoud', 'sadek', 'mohamed']"
      ]
     },
     "execution_count": 22,
     "metadata": {},
     "output_type": "execute_result"
    }
   ],
   "source": [
    "long_names = []\n",
    "for st_name in student_names:\n",
    "        if len(st_name) > 4:\n",
    "            long_names.append(st_name)\n",
    "long_names"
   ]
  },
  {
   "cell_type": "code",
   "execution_count": 24,
   "id": "46529349",
   "metadata": {},
   "outputs": [
    {
     "data": {
      "text/plain": [
       "[('mahmoud', 'mahmoud'),\n",
       " ('mahmoud', 'sadek'),\n",
       " ('mahmoud', 'ali'),\n",
       " ('mahmoud', 'taha'),\n",
       " ('mahmoud', 'mohamed'),\n",
       " ('mahmoud', 'badr'),\n",
       " ('mahmoud', 'badr'),\n",
       " ('sadek', 'mahmoud'),\n",
       " ('sadek', 'sadek'),\n",
       " ('sadek', 'ali'),\n",
       " ('sadek', 'taha'),\n",
       " ('sadek', 'mohamed'),\n",
       " ('sadek', 'badr'),\n",
       " ('sadek', 'badr'),\n",
       " ('ali', 'mahmoud'),\n",
       " ('ali', 'sadek'),\n",
       " ('ali', 'ali'),\n",
       " ('ali', 'taha'),\n",
       " ('ali', 'mohamed'),\n",
       " ('ali', 'badr'),\n",
       " ('ali', 'badr'),\n",
       " ('taha', 'mahmoud'),\n",
       " ('taha', 'sadek'),\n",
       " ('taha', 'ali'),\n",
       " ('taha', 'taha'),\n",
       " ('taha', 'mohamed'),\n",
       " ('taha', 'badr'),\n",
       " ('taha', 'badr'),\n",
       " ('mohamed', 'mahmoud'),\n",
       " ('mohamed', 'sadek'),\n",
       " ('mohamed', 'ali'),\n",
       " ('mohamed', 'taha'),\n",
       " ('mohamed', 'mohamed'),\n",
       " ('mohamed', 'badr'),\n",
       " ('mohamed', 'badr'),\n",
       " ('badr', 'mahmoud'),\n",
       " ('badr', 'sadek'),\n",
       " ('badr', 'ali'),\n",
       " ('badr', 'taha'),\n",
       " ('badr', 'mohamed'),\n",
       " ('badr', 'badr'),\n",
       " ('badr', 'badr'),\n",
       " ('badr', 'mahmoud'),\n",
       " ('badr', 'sadek'),\n",
       " ('badr', 'ali'),\n",
       " ('badr', 'taha'),\n",
       " ('badr', 'mohamed'),\n",
       " ('badr', 'badr'),\n",
       " ('badr', 'badr')]"
      ]
     },
     "execution_count": 24,
     "metadata": {},
     "output_type": "execute_result"
    }
   ],
   "source": [
    "std_pairs = []\n",
    "for std_name_1 in student_names:\n",
    "    for std_name_2 in student_names:\n",
    "        std_pairs.append((std_name_1,std_name_2))\n",
    "std_pairs"
   ]
  },
  {
   "cell_type": "code",
   "execution_count": 25,
   "id": "a567c132",
   "metadata": {},
   "outputs": [
    {
     "data": {
      "text/plain": [
       "('mahmoud', 'mahmoud')"
      ]
     },
     "execution_count": 25,
     "metadata": {},
     "output_type": "execute_result"
    }
   ],
   "source": [
    "std_pairs[0]"
   ]
  },
  {
   "cell_type": "code",
   "execution_count": 26,
   "id": "b5c482b5",
   "metadata": {},
   "outputs": [
    {
     "data": {
      "text/plain": [
       "[('mahmoud', 'sadek'),\n",
       " ('mahmoud', 'ali'),\n",
       " ('mahmoud', 'taha'),\n",
       " ('sadek', 'mahmoud'),\n",
       " ('sadek', 'ali'),\n",
       " ('sadek', 'taha'),\n",
       " ('ali', 'mahmoud'),\n",
       " ('ali', 'sadek'),\n",
       " ('ali', 'taha'),\n",
       " ('taha', 'mahmoud'),\n",
       " ('taha', 'sadek'),\n",
       " ('taha', 'ali')]"
      ]
     },
     "execution_count": 26,
     "metadata": {},
     "output_type": "execute_result"
    }
   ],
   "source": [
    "student_names = ['mahmoud','sadek','ali','taha']\n",
    "std_pairs = []\n",
    "for std_name_1 in student_names:\n",
    "    for std_name_2 in student_names:\n",
    "        if std_name_1 != std_name_2:\n",
    "            std_pairs.append((std_name_1,std_name_2))\n",
    "std_pairs"
   ]
  },
  {
   "cell_type": "code",
   "execution_count": 27,
   "id": "c1af62de",
   "metadata": {},
   "outputs": [
    {
     "data": {
      "text/plain": [
       "('sadek', 'Social', 'A+')"
      ]
     },
     "execution_count": 27,
     "metadata": {},
     "output_type": "execute_result"
    }
   ],
   "source": [
    "std_grade = ('sadek','Social','A+')\n",
    "std_grade"
   ]
  },
  {
   "cell_type": "code",
   "execution_count": 28,
   "id": "b78c45df",
   "metadata": {},
   "outputs": [
    {
     "data": {
      "text/plain": [
       "'sadek'"
      ]
     },
     "execution_count": 28,
     "metadata": {},
     "output_type": "execute_result"
    }
   ],
   "source": [
    "std_grade[0]"
   ]
  },
  {
   "cell_type": "code",
   "execution_count": 29,
   "id": "16d1e0ae",
   "metadata": {},
   "outputs": [
    {
     "ename": "AttributeError",
     "evalue": "'tuple' object has no attribute 'append'",
     "output_type": "error",
     "traceback": [
      "\u001b[1;31m---------------------------------------------------------------------------\u001b[0m",
      "\u001b[1;31mAttributeError\u001b[0m                            Traceback (most recent call last)",
      "\u001b[1;32m~\\AppData\\Local\\Temp/ipykernel_14432/4031262258.py\u001b[0m in \u001b[0;36m<module>\u001b[1;34m\u001b[0m\n\u001b[1;32m----> 1\u001b[1;33m \u001b[0mstd_grade\u001b[0m\u001b[1;33m.\u001b[0m\u001b[0mappend\u001b[0m\u001b[1;33m(\u001b[0m\u001b[1;34m'something'\u001b[0m\u001b[1;33m)\u001b[0m\u001b[1;33m\u001b[0m\u001b[1;33m\u001b[0m\u001b[0m\n\u001b[0m",
      "\u001b[1;31mAttributeError\u001b[0m: 'tuple' object has no attribute 'append'"
     ]
    }
   ],
   "source": [
    "std_grade.append('something')"
   ]
  },
  {
   "cell_type": "code",
   "execution_count": 30,
   "id": "3f2abe5a",
   "metadata": {},
   "outputs": [
    {
     "ename": "TypeError",
     "evalue": "'tuple' object doesn't support item deletion",
     "output_type": "error",
     "traceback": [
      "\u001b[1;31m---------------------------------------------------------------------------\u001b[0m",
      "\u001b[1;31mTypeError\u001b[0m                                 Traceback (most recent call last)",
      "\u001b[1;32m~\\AppData\\Local\\Temp/ipykernel_14432/4098586010.py\u001b[0m in \u001b[0;36m<module>\u001b[1;34m\u001b[0m\n\u001b[1;32m----> 1\u001b[1;33m \u001b[1;32mdel\u001b[0m \u001b[0mstd_grade\u001b[0m\u001b[1;33m[\u001b[0m\u001b[1;36m2\u001b[0m\u001b[1;33m]\u001b[0m\u001b[1;33m\u001b[0m\u001b[1;33m\u001b[0m\u001b[0m\n\u001b[0m",
      "\u001b[1;31mTypeError\u001b[0m: 'tuple' object doesn't support item deletion"
     ]
    }
   ],
   "source": [
    "del std_grade[2]"
   ]
  },
  {
   "cell_type": "code",
   "execution_count": 31,
   "id": "a0d81a94",
   "metadata": {},
   "outputs": [
    {
     "ename": "SyntaxError",
     "evalue": "invalid syntax (Temp/ipykernel_14432/1714076825.py, line 1)",
     "output_type": "error",
     "traceback": [
      "\u001b[1;36m  File \u001b[1;32m\"C:\\Users\\mahmo\\AppData\\Local\\Temp/ipykernel_14432/1714076825.py\"\u001b[1;36m, line \u001b[1;32m1\u001b[0m\n\u001b[1;33m    del std_grade[2] = 'something'\u001b[0m\n\u001b[1;37m                     ^\u001b[0m\n\u001b[1;31mSyntaxError\u001b[0m\u001b[1;31m:\u001b[0m invalid syntax\n"
     ]
    }
   ],
   "source": [
    "del std_grade[2] = 'something'"
   ]
  },
  {
   "cell_type": "code",
   "execution_count": 32,
   "id": "eb3215f8",
   "metadata": {},
   "outputs": [
    {
     "name": "stdout",
     "output_type": "stream",
     "text": [
      "sadek\n",
      "Social\n",
      "A+\n"
     ]
    }
   ],
   "source": [
    "std_grade = ('sadek','Social','A+')\n",
    "std_name, subject, grade = std_grade\n",
    "\n",
    "print(std_name)\n",
    "print(subject)\n",
    "print(grade)"
   ]
  },
  {
   "cell_type": "code",
   "execution_count": 33,
   "id": "b86f71ee",
   "metadata": {},
   "outputs": [
    {
     "name": "stdout",
     "output_type": "stream",
     "text": [
      "Congratulations sadek on getting an A+ in Social\n",
      "Congratulations Ahmed on getting an A- in Gis\n"
     ]
    }
   ],
   "source": [
    "std_grades = [\n",
    "    ('sadek', 'Social', 'A+'),\n",
    "    ('Mahmoud', 'IS Security', 'C+'),\n",
    "    ('Tahe', 'Big Data', 'B+'),\n",
    "    ('Ahmed', 'Gis', 'A-'),\n",
    "]\n",
    "\n",
    "for student_name, subject, grade in std_grades:\n",
    "    if grade.startswith('A'):\n",
    "        print('Congratulations', student_name,\n",
    "              'on getting an', grade,\n",
    "              'in', subject)"
   ]
  },
  {
   "cell_type": "code",
   "execution_count": 34,
   "id": "74f44285",
   "metadata": {},
   "outputs": [
    {
     "name": "stdout",
     "output_type": "stream",
     "text": [
      "Congratulations sadek on getting an A+ in Social\n",
      "Congratulations Ahmed on getting an A- in Gis\n"
     ]
    }
   ],
   "source": [
    "for std_grade in std_grades:\n",
    "    if std_grade[2].startswith('A'):\n",
    "        print('Congratulations', std_grade[0],\n",
    "              'on getting an', std_grade[2],\n",
    "              'in', std_grade[1])"
   ]
  },
  {
   "cell_type": "code",
   "execution_count": 35,
   "id": "6626d4ae",
   "metadata": {},
   "outputs": [],
   "source": [
    "foreign_languages = {\n",
    "    'Sadek' : 'Italian',\n",
    "    'Mohamed' : 'English',\n",
    "    'Tahe' : 'Spanish',\n",
    "    'Ali' : 'English',\n",
    "}"
   ]
  },
  {
   "cell_type": "code",
   "execution_count": 36,
   "id": "8426122f",
   "metadata": {},
   "outputs": [
    {
     "data": {
      "text/plain": [
       "'Italian'"
      ]
     },
     "execution_count": 36,
     "metadata": {},
     "output_type": "execute_result"
    }
   ],
   "source": [
    "foreign_languages['Sadek']"
   ]
  },
  {
   "cell_type": "code",
   "execution_count": 37,
   "id": "f66f9666",
   "metadata": {},
   "outputs": [
    {
     "data": {
      "text/plain": [
       "'English'"
      ]
     },
     "execution_count": 37,
     "metadata": {},
     "output_type": "execute_result"
    }
   ],
   "source": [
    "foreign_languages['Ali']"
   ]
  },
  {
   "cell_type": "code",
   "execution_count": 38,
   "id": "6633efb0",
   "metadata": {},
   "outputs": [
    {
     "ename": "KeyError",
     "evalue": "'Ahmed'",
     "output_type": "error",
     "traceback": [
      "\u001b[1;31m---------------------------------------------------------------------------\u001b[0m",
      "\u001b[1;31mKeyError\u001b[0m                                  Traceback (most recent call last)",
      "\u001b[1;32m~\\AppData\\Local\\Temp/ipykernel_14432/1474520269.py\u001b[0m in \u001b[0;36m<module>\u001b[1;34m\u001b[0m\n\u001b[1;32m----> 1\u001b[1;33m \u001b[0mforeign_languages\u001b[0m\u001b[1;33m[\u001b[0m\u001b[1;34m'Ahmed'\u001b[0m\u001b[1;33m]\u001b[0m\u001b[1;33m\u001b[0m\u001b[1;33m\u001b[0m\u001b[0m\n\u001b[0m",
      "\u001b[1;31mKeyError\u001b[0m: 'Ahmed'"
     ]
    }
   ],
   "source": [
    "foreign_languages['Ahmed']"
   ]
  },
  {
   "cell_type": "code",
   "execution_count": 39,
   "id": "ea591a04",
   "metadata": {},
   "outputs": [
    {
     "data": {
      "text/plain": [
       "False"
      ]
     },
     "execution_count": 39,
     "metadata": {},
     "output_type": "execute_result"
    }
   ],
   "source": [
    "'Ahmed' in foreign_languages"
   ]
  },
  {
   "cell_type": "code",
   "execution_count": 40,
   "id": "88d339e7",
   "metadata": {},
   "outputs": [
    {
     "data": {
      "text/plain": [
       "False"
      ]
     },
     "execution_count": 40,
     "metadata": {},
     "output_type": "execute_result"
    }
   ],
   "source": [
    "'Taha' in foreign_languages"
   ]
  },
  {
   "cell_type": "code",
   "execution_count": 41,
   "id": "660c1dcd",
   "metadata": {},
   "outputs": [
    {
     "data": {
      "text/plain": [
       "True"
      ]
     },
     "execution_count": 41,
     "metadata": {},
     "output_type": "execute_result"
    }
   ],
   "source": [
    "'Sadek' in foreign_languages"
   ]
  },
  {
   "cell_type": "code",
   "execution_count": 42,
   "id": "7ccf54f1",
   "metadata": {},
   "outputs": [],
   "source": [
    "foreign_languages['Ahemd'] = 'French'"
   ]
  },
  {
   "cell_type": "code",
   "execution_count": 43,
   "id": "9067f346",
   "metadata": {},
   "outputs": [
    {
     "data": {
      "text/plain": [
       "{'Sadek': 'Italian',\n",
       " 'Mohamed': 'English',\n",
       " 'Tahe': 'Spanish',\n",
       " 'Ali': 'English',\n",
       " 'Ahemd': 'French'}"
      ]
     },
     "execution_count": 43,
     "metadata": {},
     "output_type": "execute_result"
    }
   ],
   "source": [
    "foreign_languages"
   ]
  },
  {
   "cell_type": "code",
   "execution_count": 44,
   "id": "108fb75d",
   "metadata": {},
   "outputs": [
    {
     "data": {
      "text/plain": [
       "{'Sadek': 'Italian', 'Mohamed': 'English', 'Ali': 'English', 'Ahemd': 'French'}"
      ]
     },
     "execution_count": 44,
     "metadata": {},
     "output_type": "execute_result"
    }
   ],
   "source": [
    "del foreign_languages['Tahe']\n",
    "foreign_languages"
   ]
  },
  {
   "cell_type": "code",
   "execution_count": 45,
   "id": "cba49e45",
   "metadata": {},
   "outputs": [
    {
     "data": {
      "text/plain": [
       "{'Sadek': 'Italian',\n",
       " 'Mohamed': 'English',\n",
       " 'Ali': 'English',\n",
       " 'Ahemd': 'Italian'}"
      ]
     },
     "execution_count": 45,
     "metadata": {},
     "output_type": "execute_result"
    }
   ],
   "source": [
    "foreign_languages['Ahemd'] = 'Italian'\n",
    "foreign_languages"
   ]
  },
  {
   "cell_type": "code",
   "execution_count": 46,
   "id": "d081356c",
   "metadata": {},
   "outputs": [
    {
     "name": "stdout",
     "output_type": "stream",
     "text": [
      "Sadek is taking Italian\n",
      "Mohamed is taking English\n",
      "Ali is taking English\n",
      "Ahemd is taking Italian\n"
     ]
    }
   ],
   "source": [
    "for key in foreign_languages:\n",
    "    value = foreign_languages[key]\n",
    "    print(key, 'is taking', value)"
   ]
  },
  {
   "cell_type": "code",
   "execution_count": 47,
   "id": "d9ca1de4",
   "metadata": {},
   "outputs": [
    {
     "name": "stdout",
     "output_type": "stream",
     "text": [
      "Sadek is taking Italian\n",
      "Mohamed is taking English\n",
      "Ali is taking English\n",
      "Ahemd is taking Italian\n"
     ]
    }
   ],
   "source": [
    "for key, value in foreign_languages.items():\n",
    "    print(key, 'is taking', value)"
   ]
  },
  {
   "cell_type": "code",
   "execution_count": 48,
   "id": "8108bc3a",
   "metadata": {},
   "outputs": [],
   "source": [
    "std_grade = ('Sadek','English','A')"
   ]
  },
  {
   "cell_type": "code",
   "execution_count": 51,
   "id": "9ff274eb",
   "metadata": {},
   "outputs": [
    {
     "name": "stdout",
     "output_type": "stream",
     "text": [
      "Ahmed got a grade of A+ in Social\n"
     ]
    }
   ],
   "source": [
    "std_name, subject, grade = std_grades[0]\n",
    "print(student_name, 'got a grade of', grade, 'in', subject)"
   ]
  },
  {
   "cell_type": "code",
   "execution_count": 52,
   "id": "1fa2976c",
   "metadata": {},
   "outputs": [
    {
     "name": "stdout",
     "output_type": "stream",
     "text": [
      "Sadek got a grade of A+ in Spanish\n"
     ]
    }
   ],
   "source": [
    "record = {\n",
    "    'name': 'Sadek',\n",
    "    'subject': 'Spanish',\n",
    "    'grade': 'A+',\n",
    "}\n",
    "print(record['name'],\n",
    "      'got a grade of', record['grade'],\n",
    "      'in', record['subject'])"
   ]
  },
  {
   "cell_type": "code",
   "execution_count": 53,
   "id": "dd18368a",
   "metadata": {},
   "outputs": [],
   "source": [
    "std_grades = [\n",
    "    ('sadek','spanish','A'),\n",
    "    ('ali','French','C'),\n",
    "    ('Ahemd','italian','B'),\n",
    "    ('mahmoud','italian','A+')\n",
    "]"
   ]
  },
  {
   "cell_type": "code",
   "execution_count": 55,
   "id": "47298cf6",
   "metadata": {},
   "outputs": [
    {
     "data": {
      "text/plain": [
       "('ali', 'French', 'C')"
      ]
     },
     "execution_count": 55,
     "metadata": {},
     "output_type": "execute_result"
    }
   ],
   "source": [
    "std_grades[1]"
   ]
  },
  {
   "cell_type": "code",
   "execution_count": 56,
   "id": "1d945b83",
   "metadata": {},
   "outputs": [
    {
     "data": {
      "text/plain": [
       "'C'"
      ]
     },
     "execution_count": 56,
     "metadata": {},
     "output_type": "execute_result"
    }
   ],
   "source": [
    "std_grades[1][2]"
   ]
  },
  {
   "cell_type": "code",
   "execution_count": 57,
   "id": "61562882",
   "metadata": {},
   "outputs": [
    {
     "data": {
      "text/plain": [
       "[{'name': 'sadek', 'subject': 'spanish', 'grade': 'A'},\n",
       " {'name': 'ali', 'subject': 'French', 'grade': 'C'},\n",
       " {'name': 'Ahemd', 'subject': 'italian', 'grade': 'B'},\n",
       " {'name': 'mahmoud', 'subject': 'italian', 'grade': 'A+'}]"
      ]
     },
     "execution_count": 57,
     "metadata": {},
     "output_type": "execute_result"
    }
   ],
   "source": [
    "std_grade_records = []\n",
    "for student_name, subject, grade in std_grades:\n",
    "    record = {\n",
    "        'name': student_name,\n",
    "        'subject': subject,\n",
    "        'grade': grade,\n",
    "    }\n",
    "    std_grade_records.append(record)\n",
    "    \n",
    "std_grade_records"
   ]
  },
  {
   "cell_type": "code",
   "execution_count": 59,
   "id": "96a72123",
   "metadata": {},
   "outputs": [
    {
     "data": {
      "text/plain": [
       "{'name': 'ali', 'subject': 'French', 'grade': 'C'}"
      ]
     },
     "execution_count": 59,
     "metadata": {},
     "output_type": "execute_result"
    }
   ],
   "source": [
    "std_grade_records[1]"
   ]
  },
  {
   "cell_type": "code",
   "execution_count": 60,
   "id": "c8b410d8",
   "metadata": {},
   "outputs": [
    {
     "data": {
      "text/plain": [
       "'C'"
      ]
     },
     "execution_count": 60,
     "metadata": {},
     "output_type": "execute_result"
    }
   ],
   "source": [
    "std_grade_records[1]['grade']"
   ]
  },
  {
   "cell_type": "code",
   "execution_count": 61,
   "id": "e1ceb6e6",
   "metadata": {},
   "outputs": [
    {
     "name": "stdout",
     "output_type": "stream",
     "text": [
      "Congratulations sadek on getting an A in spanish\n",
      "Congratulations mahmoud on getting an A+ in italian\n"
     ]
    }
   ],
   "source": [
    "for record in std_grade_records:\n",
    "    if record['grade'].startswith('A'):\n",
    "        print('Congratulations', record['name'], \n",
    "              'on getting an', record['grade'], \n",
    "              'in', record['subject'])"
   ]
  },
  {
   "cell_type": "code",
   "execution_count": 65,
   "id": "7bde6539",
   "metadata": {},
   "outputs": [
    {
     "data": {
      "text/plain": [
       "{'sadek': {'subject': 'spanish', 'grade': 'A'},\n",
       " 'ali': {'subject': 'French', 'grade': 'C'},\n",
       " 'Ahemd': {'subject': 'italian', 'grade': 'B'},\n",
       " 'mahmoud': {'subject': 'italian', 'grade': 'A+'}}"
      ]
     },
     "execution_count": 65,
     "metadata": {},
     "output_type": "execute_result"
    }
   ],
   "source": [
    "foreign_language_grades = {}\n",
    "for std_name, subject, grade in std_grades:\n",
    "    record = {\n",
    "        'subject': subject,\n",
    "        'grade': grade,\n",
    "    }\n",
    "    foreign_language_grades[std_name] = record\n",
    "    \n",
    "foreign_language_grades"
   ]
  },
  {
   "cell_type": "code",
   "execution_count": 66,
   "id": "b623a8f4",
   "metadata": {},
   "outputs": [
    {
     "data": {
      "text/plain": [
       "{'subject': 'spanish', 'grade': 'A'}"
      ]
     },
     "execution_count": 66,
     "metadata": {},
     "output_type": "execute_result"
    }
   ],
   "source": [
    "foreign_language_grades['sadek']"
   ]
  },
  {
   "cell_type": "code",
   "execution_count": 67,
   "id": "33e1ce51",
   "metadata": {},
   "outputs": [
    {
     "data": {
      "text/plain": [
       "'A'"
      ]
     },
     "execution_count": 67,
     "metadata": {},
     "output_type": "execute_result"
    }
   ],
   "source": [
    "foreign_language_grades['sadek']['grade']"
   ]
  },
  {
   "cell_type": "code",
   "execution_count": 68,
   "id": "38077cc5",
   "metadata": {},
   "outputs": [
    {
     "data": {
      "text/plain": [
       "{('sadek', 'spanish'): 'A',\n",
       " ('ali', 'French'): 'C',\n",
       " ('Ahemd', 'italian'): 'B',\n",
       " ('mahmoud', 'italian'): 'A+'}"
      ]
     },
     "execution_count": 68,
     "metadata": {},
     "output_type": "execute_result"
    }
   ],
   "source": [
    "student_course_grades = {}\n",
    "for std_name, subject, grade in std_grades:\n",
    "    student_course_grades[std_name, subject] = grade\n",
    "    \n",
    "student_course_grades"
   ]
  },
  {
   "cell_type": "code",
   "execution_count": 69,
   "id": "5e5726e6",
   "metadata": {},
   "outputs": [],
   "source": [
    "student_course_grades['sadek', 'Math'] = 'A'\n",
    "student_course_grades['sadek', 'History'] = 'B'"
   ]
  },
  {
   "cell_type": "code",
   "execution_count": 70,
   "id": "ede7efef",
   "metadata": {},
   "outputs": [
    {
     "data": {
      "text/plain": [
       "{('sadek', 'spanish'): 'A',\n",
       " ('ali', 'French'): 'C',\n",
       " ('Ahemd', 'italian'): 'B',\n",
       " ('mahmoud', 'italian'): 'A+',\n",
       " ('sadek', 'Math'): 'A',\n",
       " ('sadek', 'History'): 'B'}"
      ]
     },
     "execution_count": 70,
     "metadata": {},
     "output_type": "execute_result"
    }
   ],
   "source": [
    "student_course_grades"
   ]
  },
  {
   "cell_type": "code",
   "execution_count": 71,
   "id": "df2ecbc2",
   "metadata": {},
   "outputs": [],
   "source": [
    "std_report_cards = {}\n",
    "for std_name, subject, grade in std_grades:\n",
    "    if std_name not in std_report_cards:\n",
    "        std_report_cards[std_name] = {}\n",
    "    std_report_cards[std_name][subject] = grade"
   ]
  },
  {
   "cell_type": "code",
   "execution_count": 72,
   "id": "202f30c6",
   "metadata": {},
   "outputs": [
    {
     "data": {
      "text/plain": [
       "{'sadek': {'spanish': 'A'},\n",
       " 'ali': {'French': 'C'},\n",
       " 'Ahemd': {'italian': 'B'},\n",
       " 'mahmoud': {'italian': 'A+'}}"
      ]
     },
     "execution_count": 72,
     "metadata": {},
     "output_type": "execute_result"
    }
   ],
   "source": [
    "std_report_cards"
   ]
  },
  {
   "cell_type": "code",
   "execution_count": 74,
   "id": "40e2fccb",
   "metadata": {},
   "outputs": [],
   "source": [
    "std_report_cards['sadek']['math'] = 'A'\n",
    "std_report_cards['sadek']['history'] = 'B'"
   ]
  },
  {
   "cell_type": "code",
   "execution_count": 75,
   "id": "4c8a951e",
   "metadata": {},
   "outputs": [
    {
     "data": {
      "text/plain": [
       "{'sadek': {'spanish': 'A', 'math': 'A', 'history': 'B'},\n",
       " 'ali': {'French': 'C'},\n",
       " 'Ahemd': {'italian': 'B'},\n",
       " 'mahmoud': {'italian': 'A+'}}"
      ]
     },
     "execution_count": 75,
     "metadata": {},
     "output_type": "execute_result"
    }
   ],
   "source": [
    "std_report_cards"
   ]
  },
  {
   "cell_type": "code",
   "execution_count": 76,
   "id": "577b8a54",
   "metadata": {},
   "outputs": [
    {
     "data": {
      "text/plain": [
       "{'spanish': 'A', 'math': 'A', 'history': 'B'}"
      ]
     },
     "execution_count": 76,
     "metadata": {},
     "output_type": "execute_result"
    }
   ],
   "source": [
    "std_report_cards['sadek']"
   ]
  },
  {
   "cell_type": "code",
   "execution_count": null,
   "id": "620a651f",
   "metadata": {},
   "outputs": [],
   "source": []
  }
 ],
 "metadata": {
  "kernelspec": {
   "display_name": "Python 3 (ipykernel)",
   "language": "python",
   "name": "python3"
  },
  "language_info": {
   "codemirror_mode": {
    "name": "ipython",
    "version": 3
   },
   "file_extension": ".py",
   "mimetype": "text/x-python",
   "name": "python",
   "nbconvert_exporter": "python",
   "pygments_lexer": "ipython3",
   "version": "3.9.7"
  }
 },
 "nbformat": 4,
 "nbformat_minor": 5
}
